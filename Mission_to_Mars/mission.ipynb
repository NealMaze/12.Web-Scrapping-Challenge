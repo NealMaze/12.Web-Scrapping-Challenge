{
 "cells": [
  {
   "cell_type": "code",
   "execution_count": null,
   "metadata": {},
   "outputs": [],
   "source": [
    "# imports\n",
    "import requests\n",
    "from splinter import Browser as browse\n",
    "from bs4 import BeautifulSoup as bSoup\n",
    "import pandas as pd\n",
    "import time\n",
    "import pymongo\n",
    "from webdriver_manager.chrome import ChromeDriverManager"
   ]
  },
  {
   "cell_type": "code",
   "execution_count": null,
   "metadata": {},
   "outputs": [],
   "source": [
    "con = 'mongodb://localhost:27017'\n",
    "cli = pymongo.MongoClient(con)\n",
    "cli.drop_database('mars_db')"
   ]
  },
  {
   "cell_type": "code",
   "execution_count": null,
   "metadata": {},
   "outputs": [],
   "source": [
    "db = cli.mars_db\n",
    "collection = db.articles"
   ]
  },
  {
   "cell_type": "code",
   "execution_count": null,
   "metadata": {},
   "outputs": [],
   "source": [
    "executable_path = {'executable_path' : ChromeDriverManager().install()}\n",
    "browser = Browser('chrome', **executable_path, headless = False)"
   ]
  },
  {
   "cell_type": "code",
   "execution_count": null,
   "metadata": {},
   "outputs": [],
   "source": [
    "url = \"https://mars.nasa.gov/news/\"\n",
    "browser.visit(url)\n",
    "html = browser.html\n",
    "soup = BeautifulSoup(html, 'html.parser')"
   ]
  },
  {
   "cell_type": "code",
   "execution_count": null,
   "metadata": {},
   "outputs": [],
   "source": [
    "mars = {}\n",
    "\n",
    "results = soup.find_all('div', class_='content_title')\n",
    "title = results[1].a.text\n",
    "\n",
    "results = soup.find_all('div', class_= 'article_teaser_body')\n",
    "para = results[0].text\n",
    "\n",
    "mars['news_title'] = title\n",
    "mars['news_paragraph'] = para"
   ]
  },
  {
   "cell_type": "code",
   "execution_count": null,
   "metadata": {},
   "outputs": [],
   "source": [
    "# JPL Mars Space Image\n",
    "url = 'https://data-class-jpl-space.s3.amazonaws.com/JPL_Space/index.html'\n",
    "\n",
    "browser.visit(url)\n",
    "html = browser.html\n",
    "soup = BeautifulSoup(html, 'html.parser')\n",
    "\n",
    "results = browser.find_by_tag('button')[1]\n",
    "results.click()\n",
    "img_results = soup.find_all('img')[1]['src']\n",
    "mars['featured_image_url'] = 'https://data-class-jpl-space.s3.amazonaws.com/JPL_Space/' + img_results"
   ]
  },
  {
   "cell_type": "code",
   "execution_count": null,
   "metadata": {},
   "outputs": [],
   "source": [
    "# Mars Facts\n",
    "url = 'https://space-facts.com/mars/'\n",
    "\n",
    "table = pd.read_html(url)[0]\n",
    "table.columns=['Description', 'Mars']\n",
    "table.set_index('Description', inplace = True)\n",
    "mars_facts = table.to_html('templates/Mars_fact_table.html')"
   ]
  },
  {
   "cell_type": "code",
   "execution_count": null,
   "metadata": {},
   "outputs": [],
   "source": [
    "url = 'https://astrogeology.usgs.gov/search/results?q=hemisphere+enhanced&k1=target&v1=Mars'\n",
    "\n",
    "browser.visit(url)\n",
    "html = browser.html\n",
    "soup = BeautifulSoup(html, 'html.parser')\n",
    "results = soup.find_all('div', class_ = 'description')\n",
    "\n",
    "img_urls = []\n",
    "\n",
    "for name in results:\n",
    "    temp = name.find('h3').text\n",
    "    two_words = temp[:-9]\n",
    "\n",
    "    browser.click_link_by_partial_text(temp)\n",
    "    html = browser.html\n",
    "    soup = BeautifulSoup(html, 'html.parser')\n",
    "    img = soup.find_all('img')[5]['src']\n",
    "    base_url = 'astrogeology.usgs.gov'\n",
    "    img_url = base_url + img\n",
    "    dic_pic = {'title':two_words,'img_url':img_url}\n",
    "    \n",
    "    img_urls.append(dic_pic)\n",
    "    \n",
    "    browser.back()\n",
    "    \n",
    "for i in len(img_url):\n",
    "    mars['title'].append(img_url[i].title)\n",
    "    mars['img_url'].append(img_url[i].img_url)"
   ]
  },
  {
   "cell_type": "code",
   "execution_count": null,
   "metadata": {},
   "outputs": [],
   "source": [
    "browser.quit()\n",
    "collection.insert_one(mars)"
   ]
  }
 ],
 "metadata": {
  "kernelspec": {
   "display_name": "Python 3",
   "language": "python",
   "name": "python3"
  },
  "language_info": {
   "codemirror_mode": {
    "name": "ipython",
    "version": 3
   },
   "file_extension": ".py",
   "mimetype": "text/x-python",
   "name": "python",
   "nbconvert_exporter": "python",
   "pygments_lexer": "ipython3",
   "version": "3.8.5"
  }
 },
 "nbformat": 4,
 "nbformat_minor": 4
}
